{
 "cells": [
  {
   "cell_type": "markdown",
   "metadata": {},
   "source": [
    "# DFS Maze Tutorial #\n",
    "\n",
    "### Documentation ###\n",
    "- ???? - [Link](???);\n",
    "\n",
    "### What is ```Mesa```? ###\n",
    "```Mesa``` is a modular framework for building, analyzing and visualizing agent-based models.\n",
    "\n"
   ]
  },
  {
   "cell_type": "markdown",
   "metadata": {},
   "source": [
    "### Importing Dependencies ###"
   ]
  },
  {
   "cell_type": "code",
   "execution_count": 2,
   "metadata": {},
   "outputs": [],
   "source": [
    "import yaml\n",
    "import random\n",
    "import numpy as np\n",
    "\n",
    "import matplotlib.pyplot as plt\n",
    "%matplotlib inline"
   ]
  },
  {
   "cell_type": "markdown",
   "metadata": {},
   "source": [
    "### User-Defined Classes ###"
   ]
  },
  {
   "cell_type": "code",
   "execution_count": 3,
   "metadata": {},
   "outputs": [],
   "source": [
    "class Cell(object): # A 'Cell' is a point in the grid, surrounded by 4 walls\n",
    "    def __init__(self, _x, _y, _value):\n",
    "        self.x = _x # Coordinates\n",
    "        self.y = _y\n",
    "        self.value = _value\n",
    "        self.visited = False #### MANTER?\n",
    "    \n",
    "    # Coordinates Methods\n",
    "    def get_coords(self):\n",
    "        return (self.x, self.y)"
   ]
  },
  {
   "cell_type": "code",
   "execution_count": 4,
   "metadata": {},
   "outputs": [],
   "source": [
    "class Maze(object): \n",
    "    def __init__(self, size):\n",
    "        # Grid\n",
    "        self.size = size\n",
    "        self.length = 2*size + 1 \n",
    "        self.grid = self.build_grid() # Coords Format: 2*x + 1 / 2*y + 1\n",
    "        # Entrance/Exit\n",
    "        self.start = self.set_entrance() # [Cell]\n",
    "        self.end = self.set_exit() # [Cell]\n",
    "        # Cells\n",
    "        self.stack = [] # LIFO [lst:Cell]\n",
    "\n",
    "    # Grid Methods\n",
    "    def build_grid(self): \n",
    "        # Create grid filled with walls (1)\n",
    "        grid = [[Cell(x, y, 1) for y in range(self.length)] for x in range(self.length)] # Format: [[x1y1, x1y2,...],\n",
    "                                                                                         #          [x2y1, x2y2,...],...]\n",
    "        return grid\n",
    "    \n",
    "    # Entrance/Exit Methods\n",
    "    def set_entrance(self): \n",
    "        return self.grid[1][0] # Entrance at NW corner\n",
    "\n",
    "    def set_exit(self): \n",
    "        return self.grid[-2][-1] # Exit at SE corner\n",
    "    \n",
    "    # Maze Methods\n",
    "    def build_maze(self):\n",
    "        # Setting at the origin\n",
    "        x, y = (0,0)\n",
    "        # Opening the default path at (1,1)\n",
    "        self.grid[2*x + 1][2*y + 1].value = 0\n",
    "        # Initializing the stack \n",
    "        start_cell = self.grid[x][y]\n",
    "        self.stack.append(start_cell)\n",
    "        # Looping while stack is not empty...\n",
    "        while self.stack:\n",
    "            # Assign current cell's coordinates\n",
    "            x, y = self.stack[-1].get_coords()\n",
    "            # Assessing candidate neighbors\n",
    "            offset = [(1, 0), (-1,0), (0, 1), (0, -1)] # Move Right, Move Left, Move Up, Move Down\n",
    "            # Randomizing 'offset' in-place\n",
    "            random.shuffle(offset) \n",
    "            # Looping 'offset'....\n",
    "            for dx, dy in offset:\n",
    "                # Updating neighbor coordinates\n",
    "                nx, ny = x + dx, y + dy\n",
    "                # If candidate neighbor is valid...\n",
    "                if 0 <= nx < self.size and 0 <= ny < self.size and self.grid[2*nx + 1][2*ny + 1].value == 1:\n",
    "                    # Opening the path (0)\n",
    "                    self.grid[2*nx + 1][2*ny + 1].value = 0\n",
    "                    self.grid[2*x + 1 + dx][2*y + 1 + dy].value = 0\n",
    "                    # Adding to stack\n",
    "                    self.stack.append(self.grid[nx][ny])\n",
    "                    break # Break loop (a neighbor has been chosen)\n",
    "            else: # Executed when loop finishes (all neighbors tried)\n",
    "                self.stack.pop() # Removes last Cell (no pathable neighbors)\n",
    "        # Adding entrance/exit\n",
    "        self.start.value = 0\n",
    "        self.end.value = 0\n",
    "\n",
    "    # Utils Methods\n",
    "    def get_grid_values(self): # OK\n",
    "        grid_values = []\n",
    "        # Looping 'self.grid'...\n",
    "        for x_idx, x_row in enumerate(self.grid): # 0-indexed\n",
    "            grid_values.append([cell.value for cell in x_row])\n",
    "        return grid_values\n",
    "\n",
    "    # Plot Methods\n",
    "    def plot_maze(self): \n",
    "        # Preparing the data\n",
    "        x = list(range(len(self.grid)))\n",
    "        y = list(range(len(self.grid)))\n",
    "        z = self.get_grid_values()\n",
    "        ## Plot\n",
    "        fig, ax = plt.subplots(nrows=1, ncols=1, figsize=(6, 6), dpi=120)\n",
    "        # ColorMesh\n",
    "        ax.pcolormesh(x, y, z, vmin=np.min(z), vmax=np.max(z), shading=\"auto\", cmap=\"binary\")\n",
    "        # Entrance/Exit\n",
    "        ax.scatter(self.start.y, self.start.x, s=14, marker=\"*\", color=\"green\") # Inverting coords since axis are inverted\n",
    "        ax.scatter(self.end.y, self.end.x, s=14, marker=\"*\", color=\"red\")\n",
    "        # Aspect\n",
    "        ax.set_box_aspect(1)\n",
    "        # Axis Labels\n",
    "        ax.set_xlabel(\"y\", fontsize=10)\n",
    "        ax.set_ylabel(\"x\", fontsize=10)\n",
    "        # Axis Color\n",
    "        ax.spines[\"left\"].set_color(None)\n",
    "        ax.spines[\"right\"].set_color(None)\n",
    "        # Ticks\n",
    "        ax.tick_params(axis= \"both\", which= \"both\", color= \"gray\", labelsize= 4) \n",
    "        ax.set_xticks(x, labels= x) \n",
    "        ax.set_yticks(y, labels= y)\n",
    "        ax.set_xticklabels(x, ha= \"center\", va= \"center\") \n",
    "        ax.set_yticklabels(y, ha= \"right\", va= \"center\") \n",
    "        # Title\n",
    "        ax.set_title(\"DFS Maze Generation\", loc=\"center\", fontsize=10, fontname=\"Helvetica\", pad=10)\n",
    "        # Grid\n",
    "        ax.grid(which= \"both\", color= \"gray\", alpha=0.25)"
   ]
  },
  {
   "cell_type": "markdown",
   "metadata": {},
   "source": [
    "### Main ###"
   ]
  },
  {
   "cell_type": "code",
   "execution_count": 5,
   "metadata": {},
   "outputs": [],
   "source": [
    "# Reading the YAML config\n",
    "with open(\"./mazes.yaml\", \"r\") as _stream:\n",
    "    yaml_config = yaml.safe_load(_stream)"
   ]
  },
  {
   "cell_type": "code",
   "execution_count": 6,
   "metadata": {},
   "outputs": [],
   "source": [
    "# Instantiating the 'Maze(object): \n",
    "maze = Maze(20)"
   ]
  },
  {
   "cell_type": "code",
   "execution_count": 7,
   "metadata": {},
   "outputs": [
    {
     "data": {
      "image/png": "[encoded data removed]",
      "text/plain": [
       "<Figure size 720x720 with 1 Axes>"
      ]
     },
     "metadata": {},
     "output_type": "display_data"
    }
   ],
   "source": [
    "# Building the maze\n",
    "maze.build_maze() \n",
    "# Plotting the maze\n",
    "maze.plot_maze() "
   ]
  },
  {
   "cell_type": "markdown",
   "metadata": {},
   "source": [
    "---"
   ]
  }
 ],
 "metadata": {
  "kernelspec": {
   "display_name": "Python 3",
   "language": "python",
   "name": "python3"
  },
  "language_info": {
   "codemirror_mode": {
    "name": "ipython",
    "version": 3
   },
   "file_extension": ".py",
   "mimetype": "text/x-python",
   "name": "python",
   "nbconvert_exporter": "python",
   "pygments_lexer": "ipython3",
   "version": "3.9.6"
  }
 },
 "nbformat": 4,
 "nbformat_minor": 2
}
